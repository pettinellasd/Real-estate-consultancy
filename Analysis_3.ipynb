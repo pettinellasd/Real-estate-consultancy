{
 "cells": [
  {
   "cell_type": "code",
   "execution_count": 1,
   "id": "d4f8215a",
   "metadata": {},
   "outputs": [],
   "source": [
    "import pandas as pd\n",
    "import numpy as np\n",
    "import matplotlib.pyplot as plt\n",
    "from timeit import default_timer as timer\n",
    "from datetime import datetime\n",
    "import folium\n",
    "import mysql.connector\n",
    "import os"
   ]
  },
  {
   "cell_type": "code",
   "execution_count": 2,
   "id": "950402d3",
   "metadata": {},
   "outputs": [],
   "source": [
    "start3 = timer()                                               # workflow timer start\n",
    "datetime3 = datetime.now().strftime('%Y-%m-%d %H:%M:%S')       # timestamp begin"
   ]
  },
  {
   "cell_type": "code",
   "execution_count": 3,
   "id": "1d410acf",
   "metadata": {},
   "outputs": [],
   "source": [
    "df = pd.read_csv(\"df.csv\", index_col='id')\n",
    "df = df.dropna()"
   ]
  },
  {
   "cell_type": "code",
   "execution_count": 4,
   "id": "4cc50ca8",
   "metadata": {},
   "outputs": [],
   "source": [
    "manhattan = df.loc[(df['neighbourhood_group'] == 'Manhattan') & (df['room_type'] == 'Entire home/apt')]\n",
    "\n",
    "mn_location = 110 * (np.arccos(np.sin(manhattan['latitude']) * np.sin(40.7038)\n",
    "                               + np.cos(manhattan['latitude']) * np.cos(40.7038)\n",
    "                               * np.cos(-74.0057 - manhattan['longitude'])))\n",
    "mn = manhattan.copy()\n",
    "mn['mn_location'] = mn_location.round(decimals=1)\n",
    "\n",
    "range2 = mn[(mn['mn_location'] <= 2) & (mn['price'] > 155) & (mn['price'] <= 160)]"
   ]
  },
  {
   "cell_type": "code",
   "execution_count": 5,
   "id": "c7ef34fe",
   "metadata": {},
   "outputs": [
    {
     "name": "stdout",
     "output_type": "stream",
     "text": [
      "          number_of_reviews last_review  latitude  longitude host_name\n",
      "id                                                                    \n",
      "2208545                  65  2019-07-05  40.71539  -73.99379     Laura\n",
      "28916375                 44  2019-07-07  40.71894  -73.99759   Patrick\n",
      "16514949                 40  2019-07-03  40.71682  -73.99574    Claire\n",
      "15813993                 39  2019-05-25  40.71520  -73.99947      Sara\n",
      "413876                   36  2018-09-26  40.70537  -74.00992       Dan\n",
      "20518456                 32  2019-06-30  40.70744  -74.01521    Sharon\n",
      "29711772                 27  2019-06-26  40.70410  -74.01550     Susan\n",
      "32527598                 25  2019-06-21  40.71907  -73.99685   Antonio\n",
      "21867749                 22  2019-06-19  40.71801  -73.99840     Sheba\n",
      "24186326                 20  2019-06-23  40.71085  -74.01580     Wyatt\n"
     ]
    }
   ],
   "source": [
    "#representing the piece of cake that I am going to analyze further, I order it and take the first 10 results\n",
    "pie = range2[['number_of_reviews', 'last_review', 'latitude', 'longitude', 'host_name']].sort_values(by=['number_of_reviews'], ascending=False).head(10)\n",
    "print(pie)"
   ]
  },
  {
   "cell_type": "code",
   "execution_count": 6,
   "id": "30415821",
   "metadata": {},
   "outputs": [
    {
     "data": {
      "image/png": "[encoded data removed]",
      "text/plain": [
       "<Figure size 432x288 with 1 Axes>"
      ]
     },
     "metadata": {
      "needs_background": "light"
     },
     "output_type": "display_data"
    }
   ],
   "source": [
    "# creating a histogram\n",
    "pie.plot.bar(x='last_review', y='number_of_reviews', rot=25, color='m') # rotation of dates\n",
    "plt4 = plt.savefig('plt4.pdf')\n",
    "plt.show()"
   ]
  },
  {
   "cell_type": "code",
   "execution_count": 7,
   "id": "1d1a63cc",
   "metadata": {},
   "outputs": [],
   "source": [
    "# creating map\n",
    "locations = pie[['latitude', 'longitude']]\n",
    "lat_list = pie['latitude'].values.tolist()\n",
    "lon_list = pie['longitude'].values.tolist()\n",
    "locationlist = locations.values.tolist() # I create a list of lists with lat-lon\n",
    "len(locationlist) # length list to do the loop\n",
    "host_name = pie['host_name'].values.tolist() # list with host name\n",
    "# loading a midpoint to center the map. Zoom based on the DF\n",
    "ave_lat = pie['latitude'].mean()\n",
    "ave_lon = pie['longitude'].mean()\n",
    "m = folium.Map(location=[ave_lat, ave_lon], zoom_start=11.5)\n",
    "for point in range(0,len(locationlist)):\n",
    "    folium.Marker(locationlist[point],popup=host_name[point]).add_to(m)\n",
    "m.save('map.html')"
   ]
  },
  {
   "cell_type": "code",
   "execution_count": 8,
   "id": "e0ce37cb",
   "metadata": {},
   "outputs": [],
   "source": [
    "end3 = timer()\n",
    "end3 = (end3 - start3)"
   ]
  },
  {
   "cell_type": "code",
   "execution_count": 9,
   "id": "0e1e7a10",
   "metadata": {},
   "outputs": [],
   "source": [
    "filepath3 = os.path.abspath('Analisi_3')\n",
    "dfpath = os.path.abspath('df')\n",
    "img4 = os.path.abspath('plt4')\n",
    "map = os.path.abspath('map')"
   ]
  },
  {
   "cell_type": "code",
   "execution_count": 10,
   "id": "b7b26019",
   "metadata": {},
   "outputs": [],
   "source": [
    "mydb = mysql.connector.connect(         # connection to the database created\n",
    "    host='localhost',\n",
    "    user='root',\n",
    "    password='arcelliboccia',\n",
    "    database='programming')"
   ]
  },
  {
   "cell_type": "code",
   "execution_count": 11,
   "id": "729de8ab",
   "metadata": {},
   "outputs": [],
   "source": [
    "mycursor = mydb.cursor()\n",
    "# inserisco i valori nei campi\n",
    "mycursor.executemany(\"INSERT INTO exam_py (timestamp, analysis, dataframe, images, time) VALUES (%s, %s, %s, %s, %s)\",\n",
    "                     [\n",
    "                         (datetime3, filepath3, dfpath, img4, end3),\n",
    "                         (datetime3, filepath3, dfpath, map, end3)])\n",
    "mydb.commit()"
   ]
  },
  {
   "cell_type": "code",
   "execution_count": null,
   "id": "ce4bca5c",
   "metadata": {},
   "outputs": [],
   "source": []
  }
 ],
 "metadata": {
  "kernelspec": {
   "display_name": "Python 3 (ipykernel)",
   "language": "python",
   "name": "python3"
  },
  "language_info": {
   "codemirror_mode": {
    "name": "ipython",
    "version": 3
   },
   "file_extension": ".py",
   "mimetype": "text/x-python",
   "name": "python",
   "nbconvert_exporter": "python",
   "pygments_lexer": "ipython3",
   "version": "3.9.7"
  }
 },
 "nbformat": 4,
 "nbformat_minor": 5
}
