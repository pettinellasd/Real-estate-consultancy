{
 "cells": [
  {
   "cell_type": "code",
   "execution_count": 1,
   "id": "79728b59",
   "metadata": {},
   "outputs": [],
   "source": [
    "import pandas as pd\n",
    "import numpy as np\n",
    "import matplotlib.pyplot as plt\n",
    "from timeit import default_timer as timer\n",
    "from datetime import datetime\n",
    "import mysql.connector\n",
    "import os"
   ]
  },
  {
   "cell_type": "code",
   "execution_count": null,
   "id": "57d28491",
   "metadata": {},
   "outputs": [],
   "source": [
    "start2 = timer()                                               # workflow timer start\n",
    "datetime2 = datetime.now().strftime('%Y-%m-%d %H:%M:%S')       # timestamp begin"
   ]
  },
  {
   "cell_type": "code",
   "execution_count": 2,
   "id": "79a60012",
   "metadata": {},
   "outputs": [],
   "source": [
    "df = pd.read_csv(\"df.csv\", index_col='id')"
   ]
  },
  {
   "cell_type": "code",
   "execution_count": null,
   "id": "4359f5a0",
   "metadata": {},
   "outputs": [],
   "source": [
    "brooklyn = df.loc[(df['neighbourhood_group'] == 'Brooklyn') & (df['room_type'] == 'Entire home/apt')]   # conditions to be explored"
   ]
  },
  {
   "cell_type": "code",
   "execution_count": null,
   "id": "768339c4",
   "metadata": {},
   "outputs": [],
   "source": [
    "br_location = 110 * (np.arccos(np.sin(brooklyn['latitude']) * np.sin(40.706001)         # trigonometric formula for conversion to km\n",
    "                               + np.cos(brooklyn['latitude']) * np.cos(40.706001)\n",
    "                               * np.cos(-73.997002 - brooklyn['longitude'])))\n",
    "br = brooklyn.copy()        # shallow copy = any changes in the new list will not be reflected in the original list\n",
    "br['br_location'] = br_location.round(decimals=1)       # to get a single decimal number"
   ]
  },
  {
   "cell_type": "code",
   "execution_count": null,
   "id": "0e5ea341",
   "metadata": {},
   "outputs": [],
   "source": [
    "br_choice1 = br[(br['br_location'] <= 2) & (br['price'] >= 150) & (br['price'] <= 155)]     # position and price range conditions\n",
    "br_choice2 = br[(br['br_location'] <= 2) & (br['price'] > 155) & (br['price'] <= 160)]\n",
    "br_choice3 = br[(br['br_location'] <= 2) & (br['price'] > 160) & (br['price'] <= 165)]\n",
    "br_choice4 = br[(br['br_location'] <= 2) & (br['price'] > 165) & (br['price'] <= 170)]\n",
    "br_choice5 = br[(br['br_location'] <= 2) & (br['price'] > 170) & (br['price'] <= 175)]"
   ]
  },
  {
   "cell_type": "code",
   "execution_count": null,
   "id": "86cf9b4c",
   "metadata": {},
   "outputs": [],
   "source": [
    "br1 = br_choice1.shape[0]           # to get the number of lines in use\n",
    "br2 = br_choice2.shape[0]\n",
    "br3 = br_choice3.shape[0]\n",
    "br4 = br_choice4.shape[0]\n",
    "br5 = br_choice5.shape[0]"
   ]
  },
  {
   "cell_type": "code",
   "execution_count": null,
   "id": "18fbb416",
   "metadata": {},
   "outputs": [],
   "source": [
    "print(br1, br2, br3, br4, br5)"
   ]
  },
  {
   "cell_type": "code",
   "execution_count": null,
   "id": "86ed8a52",
   "metadata": {},
   "outputs": [],
   "source": [
    "# pie chart creation with percentages\n",
    "\n",
    "labels = '150-155', '155-160', '160-165', '165-170', '170-175'\n",
    "sizes = [br1, br2, br3, br4, br5]\n",
    "explode = (0, 0.1, 0, 0, 0)         # graphic effect to detach the interested slice\n",
    "\n",
    "fig1, ax1 = plt.subplots()\n",
    "ax1.pie(sizes, explode=explode, labels=labels, autopct='%1.1f%%',   # graphic effects and percentage creation\n",
    "        shadow=True, startangle=90)\n",
    "ax1.axis('equal')  # ensures that the cake has a circular design (by default it is oval in shape)\n",
    "\n",
    "ax1.set_title(\"Campionatura per intervalli di prezzo (%)\")\n",
    "plt2 = plt.savefig('plt2.pdf')\n",
    "plt.show()"
   ]
  },
  {
   "cell_type": "code",
   "execution_count": null,
   "id": "bb44a68b",
   "metadata": {},
   "outputs": [],
   "source": [
    "# START SEARCH FOR MANHATTAN 2 KM FROM WALL STREET\n",
    "\n",
    "manhattan = df.loc[(df['neighbourhood_group'] == 'Manhattan') & (df['room_type'] == 'Entire home/apt')]\n",
    "\n",
    "mn_location = 110 * (np.arccos(np.sin(manhattan['latitude']) * np.sin(40.7038)\n",
    "                               + np.cos(manhattan['latitude']) * np.cos(40.7038)\n",
    "                               * np.cos(-74.0057 - manhattan['longitude'])))\n",
    "mn = manhattan.copy()\n",
    "mn['mn_location'] = mn_location.round(decimals=1)"
   ]
  },
  {
   "cell_type": "code",
   "execution_count": null,
   "id": "f478de69",
   "metadata": {},
   "outputs": [],
   "source": [
    "range1 = mn[(mn['mn_location'] <= 2) & (mn['price'] >= 150) & (mn['price'] <= 155)]\n",
    "range2 = mn[(mn['mn_location'] <= 2) & (mn['price'] > 155) & (mn['price'] <= 160)]\n",
    "range3 = mn[(mn['mn_location'] <= 2) & (mn['price'] > 160) & (mn['price'] <= 165)]\n",
    "range4 = mn[(mn['mn_location'] <= 2) & (mn['price'] > 165) & (mn['price'] <= 170)]\n",
    "range5 = mn[(mn['mn_location'] <= 2) & (mn['price'] > 170) & (mn['price'] <= 175)]"
   ]
  },
  {
   "cell_type": "code",
   "execution_count": null,
   "id": "dfcea3f1",
   "metadata": {},
   "outputs": [],
   "source": [
    "mn1 = range1.shape[0] # To get the number of rows in a dataframe use\n",
    "mn2 = range2.shape[0]\n",
    "mn3 = range3.shape[0]\n",
    "mn4 = range4.shape[0]\n",
    "mn5 = range5.shape[0]"
   ]
  },
  {
   "cell_type": "code",
   "execution_count": null,
   "id": "56e4ec17",
   "metadata": {},
   "outputs": [],
   "source": [
    "print(mn1, mn2, mn3, mn4, mn5)"
   ]
  },
  {
   "cell_type": "code",
   "execution_count": null,
   "id": "69db8d9b",
   "metadata": {},
   "outputs": [],
   "source": [
    "# I CREATE A CAKE CHART WITH PERCENTAGES\n",
    "labels = '150-155', '155-160', '160-165', '165-170', '170-175'\n",
    "sizes = [mn1, mn2, mn3, mn4, mn5]\n",
    "explode = (0, 0.1, 0, 0, 0)\n",
    "\n",
    "fig1, ax1 = plt.subplots()\n",
    "ax1.pie(sizes, explode=explode, labels=labels, autopct='%1.1f%%',\n",
    "        shadow=True, startangle=90)\n",
    "ax1.axis('equal')  # give the cake a circular appearance instead of an oval (default)\n",
    "\n",
    "ax1.set_title(\"Campionatura per intervalli di prezzo (%)\")\n",
    "plt3 = plt.savefig('plt3.pdf')\n",
    "plt.show()"
   ]
  },
  {
   "cell_type": "code",
   "execution_count": null,
   "id": "4de821a7",
   "metadata": {},
   "outputs": [],
   "source": [
    "filepath2 = os.path.abspath('Analisi_2')\n",
    "dfpath = os.path.abspath('df')\n",
    "img2 = os.path.abspath('plt2')\n",
    "img3 = os.path.abspath('plt3')"
   ]
  },
  {
   "cell_type": "code",
   "execution_count": null,
   "id": "88b02239",
   "metadata": {},
   "outputs": [],
   "source": [
    "end2 = timer()\n",
    "end2 = (end2 - start2)"
   ]
  },
  {
   "cell_type": "code",
   "execution_count": null,
   "id": "c757d352",
   "metadata": {},
   "outputs": [],
   "source": [
    "mydb = mysql.connector.connect(         # connection to the database created\n",
    "    host='localhost',\n",
    "    user='root',\n",
    "    password='arcelliboccia',\n",
    "    database='programming')"
   ]
  },
  {
   "cell_type": "code",
   "execution_count": null,
   "id": "77e1ed5a",
   "metadata": {},
   "outputs": [],
   "source": [
    "mycursor = mydb.cursor()                # the cursor is the object that connects the script with the MySQL server"
   ]
  },
  {
   "cell_type": "code",
   "execution_count": null,
   "id": "acb2568e",
   "metadata": {},
   "outputs": [],
   "source": [
    "# entering the values in the fields\n",
    "mycursor.executemany(\"INSERT INTO exam_py (timestamp, analysis, dataframe, images, time) VALUES (%s, %s, %s, %s, %s)\",\n",
    "                     [\n",
    "                         (datetime2, filepath2, dfpath, img2, end2),\n",
    "                         (datetime2, filepath2, dfpath, img3, end2)])\n",
    "mydb.commit()"
   ]
  }
 ],
 "metadata": {
  "kernelspec": {
   "display_name": "Python 3 (ipykernel)",
   "language": "python",
   "name": "python3"
  },
  "language_info": {
   "codemirror_mode": {
    "name": "ipython",
    "version": 3
   },
   "file_extension": ".py",
   "mimetype": "text/x-python",
   "name": "python",
   "nbconvert_exporter": "python",
   "pygments_lexer": "ipython3",
   "version": "3.9.7"
  }
 },
 "nbformat": 4,
 "nbformat_minor": 5
}
