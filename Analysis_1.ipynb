{
 "cells": [
  {
   "cell_type": "code",
   "execution_count": 11,
   "id": "db087072",
   "metadata": {},
   "outputs": [],
   "source": [
    "import pandas as pd\n",
    "import matplotlib.pyplot as plt\n",
    "from timeit import default_timer as timer\n",
    "from datetime import datetime\n",
    "import mysql.connector\n",
    "import os"
   ]
  },
  {
   "cell_type": "code",
   "execution_count": 12,
   "id": "282c9ee4",
   "metadata": {},
   "outputs": [],
   "source": [
    "start1 = timer()                                               # workflow timer start\n",
    "datetime1 = datetime.now().strftime('%Y-%m-%d %H:%M:%S')       # timestamp begin"
   ]
  },
  {
   "cell_type": "code",
   "execution_count": 13,
   "id": "97eeda3d",
   "metadata": {},
   "outputs": [],
   "source": [
    "df = pd.read_csv(\"df.csv\", index_col='id')  # opening of the dataframe with setting the index in reference to the first column"
   ]
  },
  {
   "cell_type": "code",
   "execution_count": 14,
   "id": "2fa5e1ad",
   "metadata": {},
   "outputs": [],
   "source": [
    "br = df.loc[(df['neighbourhood_group'] == 'Brooklyn') & (df['room_type'] == 'Entire home/apt')]      #selection of conditions within the columns\n",
    "mn = df.loc[(df['neighbourhood_group'] == 'Manhattan') & (df['room_type'] == 'Entire home/apt')]\n",
    "qs = df.loc[(df['neighbourhood_group'] == 'Queens') & (df['room_type'] == 'Entire home/apt')]\n",
    "bx = df.loc[(df['neighbourhood_group'] == 'Bronx') & (df['room_type'] == 'Entire home/apt')]\n",
    "si = df.loc[(df['neighbourhood_group'] == 'Staten Island') & (df['room_type'] == 'Entire home/apt')]"
   ]
  },
  {
   "cell_type": "code",
   "execution_count": 15,
   "id": "f5a36508",
   "metadata": {},
   "outputs": [],
   "source": [
    "br_meanprice = br.price.mean()          # calculation of the average price within the above conditions\n",
    "mn_meanprice = mn.price.mean()\n",
    "qs_meanprice = qs.price.mean()\n",
    "bx_meanprice = bx.price.mean()\n",
    "si_meanprice = si.price.mean()"
   ]
  },
  {
   "cell_type": "code",
   "execution_count": 16,
   "id": "60b694f2",
   "metadata": {},
   "outputs": [
    {
     "name": "stdout",
     "output_type": "stream",
     "text": [
      "178.32754472225128 249.23910902341086 147.05057251908397 127.5065963060686 173.8465909090909\n"
     ]
    }
   ],
   "source": [
    "print(br_meanprice, mn_meanprice, qs_meanprice, bx_meanprice, si_meanprice)"
   ]
  },
  {
   "cell_type": "code",
   "execution_count": 17,
   "id": "a9d20f40",
   "metadata": {},
   "outputs": [
    {
     "data": {
      "image/png": "[encoded data removed]",
      "text/plain": [
       "<Figure size 432x288 with 1 Axes>"
      ]
     },
     "metadata": {
      "needs_background": "light"
     },
     "output_type": "display_data"
    }
   ],
   "source": [
    "# diagram creation\n",
    "\n",
    "Neigh = ['Brooklyn', 'Manhattan', 'Queens', 'Bronx', 'Staten Island']\n",
    "pr_mean = [br_meanprice, mn_meanprice, qs_meanprice, bx_meanprice, si_meanprice]\n",
    "plt.bar(Neigh, pr_mean, color = ('b', 'g', 'r', 'y', 'black'))      # impostazione dell'istogramma\n",
    "plt.xlabel('Neighbourhood group')\n",
    "plt.ylabel('Price')\n",
    "plt1 = plt.savefig('plt1.pdf')\n",
    "plt.show()"
   ]
  },
  {
   "cell_type": "code",
   "execution_count": 18,
   "id": "7e6ad298",
   "metadata": {},
   "outputs": [],
   "source": [
    "filepath1 = os.path.abspath('Analysis_1')\n",
    "dfpath = os.path.abspath('df')\n",
    "img1 = os.path.abspath('plt1')"
   ]
  },
  {
   "cell_type": "code",
   "execution_count": 19,
   "id": "b5dfceac",
   "metadata": {},
   "outputs": [],
   "source": [
    "end1 = timer()\n",
    "end1 = (end1 - start1)"
   ]
  },
  {
   "cell_type": "code",
   "execution_count": 20,
   "id": "da697899",
   "metadata": {},
   "outputs": [
    {
     "ename": "DatabaseError",
     "evalue": "1007 (HY000): Can't create database 'programming'; database exists",
     "output_type": "error",
     "traceback": [
      "\u001b[0;31m---------------------------------------------------------------------------\u001b[0m",
      "\u001b[0;31mDatabaseError\u001b[0m                             Traceback (most recent call last)",
      "\u001b[0;32m/var/folders/nk/08xq9c1x3xzf1l89339t9qcr0000gn/T/ipykernel_7317/343346496.py\u001b[0m in \u001b[0;36m<module>\u001b[0;34m\u001b[0m\n\u001b[1;32m      7\u001b[0m \u001b[0;34m\u001b[0m\u001b[0m\n\u001b[1;32m      8\u001b[0m \u001b[0;31m# creating db\u001b[0m\u001b[0;34m\u001b[0m\u001b[0;34m\u001b[0m\u001b[0m\n\u001b[0;32m----> 9\u001b[0;31m \u001b[0mmycursor\u001b[0m\u001b[0;34m.\u001b[0m\u001b[0mexecute\u001b[0m\u001b[0;34m(\u001b[0m\u001b[0;34m\"CREATE DATABASE programming\"\u001b[0m\u001b[0;34m)\u001b[0m\u001b[0;34m\u001b[0m\u001b[0;34m\u001b[0m\u001b[0m\n\u001b[0m\u001b[1;32m     10\u001b[0m \u001b[0;34m\u001b[0m\u001b[0m\n\u001b[1;32m     11\u001b[0m mydb = mysql.connector.connect(         # connection to the database created\n",
      "\u001b[0;32m/opt/anaconda3/lib/python3.9/site-packages/mysql/connector/cursor.py\u001b[0m in \u001b[0;36mexecute\u001b[0;34m(self, operation, params, multi)\u001b[0m\n\u001b[1;32m    559\u001b[0m \u001b[0;34m\u001b[0m\u001b[0m\n\u001b[1;32m    560\u001b[0m         \u001b[0;32mtry\u001b[0m\u001b[0;34m:\u001b[0m\u001b[0;34m\u001b[0m\u001b[0;34m\u001b[0m\u001b[0m\n\u001b[0;32m--> 561\u001b[0;31m             \u001b[0mself\u001b[0m\u001b[0;34m.\u001b[0m\u001b[0m_handle_result\u001b[0m\u001b[0;34m(\u001b[0m\u001b[0mself\u001b[0m\u001b[0;34m.\u001b[0m\u001b[0m_connection\u001b[0m\u001b[0;34m.\u001b[0m\u001b[0mcmd_query\u001b[0m\u001b[0;34m(\u001b[0m\u001b[0mstmt\u001b[0m\u001b[0;34m)\u001b[0m\u001b[0;34m)\u001b[0m\u001b[0;34m\u001b[0m\u001b[0;34m\u001b[0m\u001b[0m\n\u001b[0m\u001b[1;32m    562\u001b[0m         \u001b[0;32mexcept\u001b[0m \u001b[0mInterfaceError\u001b[0m \u001b[0;32mas\u001b[0m \u001b[0merr\u001b[0m\u001b[0;34m:\u001b[0m\u001b[0;34m\u001b[0m\u001b[0;34m\u001b[0m\u001b[0m\n\u001b[1;32m    563\u001b[0m             \u001b[0;32mif\u001b[0m \u001b[0mself\u001b[0m\u001b[0;34m.\u001b[0m\u001b[0m_connection\u001b[0m\u001b[0;34m.\u001b[0m\u001b[0mhave_next_result\u001b[0m\u001b[0;34m:\u001b[0m\u001b[0;34m\u001b[0m\u001b[0;34m\u001b[0m\u001b[0m\n",
      "\u001b[0;32m/opt/anaconda3/lib/python3.9/site-packages/mysql/connector/connection.py\u001b[0m in \u001b[0;36mcmd_query\u001b[0;34m(self, query, raw, buffered, raw_as_string)\u001b[0m\n\u001b[1;32m    988\u001b[0m         \u001b[0mquery\u001b[0m \u001b[0;34m=\u001b[0m \u001b[0mbytes\u001b[0m\u001b[0;34m(\u001b[0m\u001b[0mpacket\u001b[0m\u001b[0;34m)\u001b[0m\u001b[0;34m\u001b[0m\u001b[0;34m\u001b[0m\u001b[0m\n\u001b[1;32m    989\u001b[0m         \u001b[0;32mtry\u001b[0m\u001b[0;34m:\u001b[0m\u001b[0;34m\u001b[0m\u001b[0;34m\u001b[0m\u001b[0m\n\u001b[0;32m--> 990\u001b[0;31m             \u001b[0mresult\u001b[0m \u001b[0;34m=\u001b[0m \u001b[0mself\u001b[0m\u001b[0;34m.\u001b[0m\u001b[0m_handle_result\u001b[0m\u001b[0;34m(\u001b[0m\u001b[0mself\u001b[0m\u001b[0;34m.\u001b[0m\u001b[0m_send_cmd\u001b[0m\u001b[0;34m(\u001b[0m\u001b[0mServerCmd\u001b[0m\u001b[0;34m.\u001b[0m\u001b[0mQUERY\u001b[0m\u001b[0;34m,\u001b[0m \u001b[0mquery\u001b[0m\u001b[0;34m)\u001b[0m\u001b[0;34m)\u001b[0m\u001b[0;34m\u001b[0m\u001b[0;34m\u001b[0m\u001b[0m\n\u001b[0m\u001b[1;32m    991\u001b[0m         \u001b[0;32mexcept\u001b[0m \u001b[0mProgrammingError\u001b[0m \u001b[0;32mas\u001b[0m \u001b[0merr\u001b[0m\u001b[0;34m:\u001b[0m\u001b[0;34m\u001b[0m\u001b[0;34m\u001b[0m\u001b[0m\n\u001b[1;32m    992\u001b[0m             \u001b[0;32mif\u001b[0m \u001b[0merr\u001b[0m\u001b[0;34m.\u001b[0m\u001b[0merrno\u001b[0m \u001b[0;34m==\u001b[0m \u001b[0;36m3948\u001b[0m \u001b[0;32mand\u001b[0m \u001b[0;34m\"Loading local data is disabled\"\u001b[0m \u001b[0;32min\u001b[0m \u001b[0merr\u001b[0m\u001b[0;34m.\u001b[0m\u001b[0mmsg\u001b[0m\u001b[0;34m:\u001b[0m\u001b[0;34m\u001b[0m\u001b[0;34m\u001b[0m\u001b[0m\n",
      "\u001b[0;32m/opt/anaconda3/lib/python3.9/site-packages/mysql/connector/connection.py\u001b[0m in \u001b[0;36m_handle_result\u001b[0;34m(self, packet)\u001b[0m\n\u001b[1;32m    782\u001b[0m             \u001b[0;32mreturn\u001b[0m \u001b[0mself\u001b[0m\u001b[0;34m.\u001b[0m\u001b[0m_handle_eof\u001b[0m\u001b[0;34m(\u001b[0m\u001b[0mpacket\u001b[0m\u001b[0;34m)\u001b[0m\u001b[0;34m\u001b[0m\u001b[0;34m\u001b[0m\u001b[0m\n\u001b[1;32m    783\u001b[0m         \u001b[0;32mif\u001b[0m \u001b[0mpacket\u001b[0m\u001b[0;34m[\u001b[0m\u001b[0;36m4\u001b[0m\u001b[0;34m]\u001b[0m \u001b[0;34m==\u001b[0m \u001b[0;36m255\u001b[0m\u001b[0;34m:\u001b[0m\u001b[0;34m\u001b[0m\u001b[0;34m\u001b[0m\u001b[0m\n\u001b[0;32m--> 784\u001b[0;31m             \u001b[0;32mraise\u001b[0m \u001b[0mget_exception\u001b[0m\u001b[0;34m(\u001b[0m\u001b[0mpacket\u001b[0m\u001b[0;34m)\u001b[0m\u001b[0;34m\u001b[0m\u001b[0;34m\u001b[0m\u001b[0m\n\u001b[0m\u001b[1;32m    785\u001b[0m \u001b[0;34m\u001b[0m\u001b[0m\n\u001b[1;32m    786\u001b[0m         \u001b[0;31m# We have a text result set\u001b[0m\u001b[0;34m\u001b[0m\u001b[0;34m\u001b[0m\u001b[0m\n",
      "\u001b[0;31mDatabaseError\u001b[0m: 1007 (HY000): Can't create database 'programming'; database exists"
     ]
    }
   ],
   "source": [
    "mydb = mysql.connector.connect(         # connection to the database created\n",
    "    host='localhost',\n",
    "    user='root',\n",
    "    password='arcelliboccia')\n",
    "\n",
    "mycursor = mydb.cursor()                # the cursor is the object that connects the script with the MySQL server\n",
    "\n",
    "# creating db\n",
    "mycursor.execute(\"CREATE DATABASE programming\")\n",
    "\n",
    "mydb = mysql.connector.connect(         # connection to the database created\n",
    "    host='localhost',\n",
    "    user='root',\n",
    "    password='arcelliboccia',\n",
    "    database='programming')\n",
    "\n",
    "mycursor2 = mydb.cursor()\n",
    "# creating the table by setting the fields\n",
    "mycursor2.execute(\"CREATE TABLE exam_py (timestamp DATETIME, analysis VARCHAR(255), dataframe VARCHAR(255), images VARCHAR(255), time FLOAT(40))\")\n",
    "\n",
    "mycursor3 = mydb.cursor()\n",
    "# enter the values in the fields\n",
    "sqlFormula = \"INSERT INTO exam_py (timestamp, analysis, dataframe, images, time) VALUES (%s, %s, %s, %s, %s)\"\n",
    "insert = (datetime1,\n",
    "          filepath1,\n",
    "          dfpath,\n",
    "          img1,\n",
    "          end1)\n",
    "# insert into the database\n",
    "mycursor3.execute(sqlFormula, insert)\n",
    "mydb.commit()\n"
   ]
  },
  {
   "cell_type": "code",
   "execution_count": null,
   "id": "aae5c30f",
   "metadata": {},
   "outputs": [],
   "source": []
  }
 ],
 "metadata": {
  "kernelspec": {
   "display_name": "Python 3 (ipykernel)",
   "language": "python",
   "name": "python3"
  },
  "language_info": {
   "codemirror_mode": {
    "name": "ipython",
    "version": 3
   },
   "file_extension": ".py",
   "mimetype": "text/x-python",
   "name": "python",
   "nbconvert_exporter": "python",
   "pygments_lexer": "ipython3",
   "version": "3.9.7"
  }
 },
 "nbformat": 4,
 "nbformat_minor": 5
}
